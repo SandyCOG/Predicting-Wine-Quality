{
  "nbformat": 4,
  "nbformat_minor": 0,
  "metadata": {
    "colab": {
      "provenance": [],
      "collapsed_sections": []
    },
    "kernelspec": {
      "name": "python3",
      "display_name": "Python 3"
    },
    "language_info": {
      "name": "python"
    }
  },
  "cells": [
    {
      "cell_type": "markdown",
      "source": [
        "# WINE QUALITY PREDICTION\n",
        "\n",
        "This project aims to predict wine quality using classification algorithms. The dataset used can be found on Kaggle [here](https://www.kaggle.com/datasets/yasserh/wine-quality-dataset/discussion/308022). It contains information about the red variants of the Portuguese \"Vinho Verde\" wine. Each wine has a rating between 1-10 based on the mix of chemicals it contains. According to this [website](https://www.lifesavvy.com/70685/how-much-wine-do-americans-drink-in-a-year/), the average American drinks 3.2 gallon of wine every year and is an important part of most meals. Given the chemicals contained in the wine, can we predict its?"
      ],
      "metadata": {
        "id": "qWlHt3zAHSpb"
      }
    },
    {
      "cell_type": "code",
      "execution_count": 1,
      "metadata": {
        "id": "0O7zDy6LHOwq"
      },
      "outputs": [],
      "source": [
        "#load packages\n",
        "\n",
        "import numpy as np\n",
        "import pandas as pd\n",
        "import matplotlib.pyplot as plt \n",
        "import seaborn as sns\n",
        "import warnings\n",
        "warnings.filterwarnings('ignore')  # \"error\", \"ignore\", \"always\", \"default\", \"module\" or \"once\"  "
      ]
    },
    {
      "cell_type": "code",
      "source": [
        "#load dataset\n",
        "\n",
        "wine_df = pd.read_csv('https://raw.githubusercontent.com/SandyCOG/Predicting-Wine-Quality/main/WineQT.csv') #preloaded to my personal github page\n",
        "wine_df.head() #prints the first 5 rows"
      ],
      "metadata": {
        "colab": {
          "base_uri": "https://localhost:8080/",
          "height": 206
        },
        "id": "erUeOPDyIRTP",
        "outputId": "3c8ccba1-5116-49f3-fdb9-a8163d87ec56"
      },
      "execution_count": 2,
      "outputs": [
        {
          "output_type": "execute_result",
          "data": {
            "text/plain": [
              "   fixed acidity  volatile acidity  citric acid  residual sugar  chlorides  \\\n",
              "0            7.4              0.70         0.00             1.9      0.076   \n",
              "1            7.8              0.88         0.00             2.6      0.098   \n",
              "2            7.8              0.76         0.04             2.3      0.092   \n",
              "3           11.2              0.28         0.56             1.9      0.075   \n",
              "4            7.4              0.70         0.00             1.9      0.076   \n",
              "\n",
              "   free sulfur dioxide  total sulfur dioxide  density    pH  sulphates  \\\n",
              "0                 11.0                  34.0   0.9978  3.51       0.56   \n",
              "1                 25.0                  67.0   0.9968  3.20       0.68   \n",
              "2                 15.0                  54.0   0.9970  3.26       0.65   \n",
              "3                 17.0                  60.0   0.9980  3.16       0.58   \n",
              "4                 11.0                  34.0   0.9978  3.51       0.56   \n",
              "\n",
              "   alcohol  quality  Id  \n",
              "0      9.4        5   0  \n",
              "1      9.8        5   1  \n",
              "2      9.8        5   2  \n",
              "3      9.8        6   3  \n",
              "4      9.4        5   4  "
            ],
            "text/html": [
              "\n",
              "  <div id=\"df-9320164e-1b56-4d70-a30a-a7d91acd611f\">\n",
              "    <div class=\"colab-df-container\">\n",
              "      <div>\n",
              "<style scoped>\n",
              "    .dataframe tbody tr th:only-of-type {\n",
              "        vertical-align: middle;\n",
              "    }\n",
              "\n",
              "    .dataframe tbody tr th {\n",
              "        vertical-align: top;\n",
              "    }\n",
              "\n",
              "    .dataframe thead th {\n",
              "        text-align: right;\n",
              "    }\n",
              "</style>\n",
              "<table border=\"1\" class=\"dataframe\">\n",
              "  <thead>\n",
              "    <tr style=\"text-align: right;\">\n",
              "      <th></th>\n",
              "      <th>fixed acidity</th>\n",
              "      <th>volatile acidity</th>\n",
              "      <th>citric acid</th>\n",
              "      <th>residual sugar</th>\n",
              "      <th>chlorides</th>\n",
              "      <th>free sulfur dioxide</th>\n",
              "      <th>total sulfur dioxide</th>\n",
              "      <th>density</th>\n",
              "      <th>pH</th>\n",
              "      <th>sulphates</th>\n",
              "      <th>alcohol</th>\n",
              "      <th>quality</th>\n",
              "      <th>Id</th>\n",
              "    </tr>\n",
              "  </thead>\n",
              "  <tbody>\n",
              "    <tr>\n",
              "      <th>0</th>\n",
              "      <td>7.4</td>\n",
              "      <td>0.70</td>\n",
              "      <td>0.00</td>\n",
              "      <td>1.9</td>\n",
              "      <td>0.076</td>\n",
              "      <td>11.0</td>\n",
              "      <td>34.0</td>\n",
              "      <td>0.9978</td>\n",
              "      <td>3.51</td>\n",
              "      <td>0.56</td>\n",
              "      <td>9.4</td>\n",
              "      <td>5</td>\n",
              "      <td>0</td>\n",
              "    </tr>\n",
              "    <tr>\n",
              "      <th>1</th>\n",
              "      <td>7.8</td>\n",
              "      <td>0.88</td>\n",
              "      <td>0.00</td>\n",
              "      <td>2.6</td>\n",
              "      <td>0.098</td>\n",
              "      <td>25.0</td>\n",
              "      <td>67.0</td>\n",
              "      <td>0.9968</td>\n",
              "      <td>3.20</td>\n",
              "      <td>0.68</td>\n",
              "      <td>9.8</td>\n",
              "      <td>5</td>\n",
              "      <td>1</td>\n",
              "    </tr>\n",
              "    <tr>\n",
              "      <th>2</th>\n",
              "      <td>7.8</td>\n",
              "      <td>0.76</td>\n",
              "      <td>0.04</td>\n",
              "      <td>2.3</td>\n",
              "      <td>0.092</td>\n",
              "      <td>15.0</td>\n",
              "      <td>54.0</td>\n",
              "      <td>0.9970</td>\n",
              "      <td>3.26</td>\n",
              "      <td>0.65</td>\n",
              "      <td>9.8</td>\n",
              "      <td>5</td>\n",
              "      <td>2</td>\n",
              "    </tr>\n",
              "    <tr>\n",
              "      <th>3</th>\n",
              "      <td>11.2</td>\n",
              "      <td>0.28</td>\n",
              "      <td>0.56</td>\n",
              "      <td>1.9</td>\n",
              "      <td>0.075</td>\n",
              "      <td>17.0</td>\n",
              "      <td>60.0</td>\n",
              "      <td>0.9980</td>\n",
              "      <td>3.16</td>\n",
              "      <td>0.58</td>\n",
              "      <td>9.8</td>\n",
              "      <td>6</td>\n",
              "      <td>3</td>\n",
              "    </tr>\n",
              "    <tr>\n",
              "      <th>4</th>\n",
              "      <td>7.4</td>\n",
              "      <td>0.70</td>\n",
              "      <td>0.00</td>\n",
              "      <td>1.9</td>\n",
              "      <td>0.076</td>\n",
              "      <td>11.0</td>\n",
              "      <td>34.0</td>\n",
              "      <td>0.9978</td>\n",
              "      <td>3.51</td>\n",
              "      <td>0.56</td>\n",
              "      <td>9.4</td>\n",
              "      <td>5</td>\n",
              "      <td>4</td>\n",
              "    </tr>\n",
              "  </tbody>\n",
              "</table>\n",
              "</div>\n",
              "      <button class=\"colab-df-convert\" onclick=\"convertToInteractive('df-9320164e-1b56-4d70-a30a-a7d91acd611f')\"\n",
              "              title=\"Convert this dataframe to an interactive table.\"\n",
              "              style=\"display:none;\">\n",
              "        \n",
              "  <svg xmlns=\"http://www.w3.org/2000/svg\" height=\"24px\"viewBox=\"0 0 24 24\"\n",
              "       width=\"24px\">\n",
              "    <path d=\"M0 0h24v24H0V0z\" fill=\"none\"/>\n",
              "    <path d=\"M18.56 5.44l.94 2.06.94-2.06 2.06-.94-2.06-.94-.94-2.06-.94 2.06-2.06.94zm-11 1L8.5 8.5l.94-2.06 2.06-.94-2.06-.94L8.5 2.5l-.94 2.06-2.06.94zm10 10l.94 2.06.94-2.06 2.06-.94-2.06-.94-.94-2.06-.94 2.06-2.06.94z\"/><path d=\"M17.41 7.96l-1.37-1.37c-.4-.4-.92-.59-1.43-.59-.52 0-1.04.2-1.43.59L10.3 9.45l-7.72 7.72c-.78.78-.78 2.05 0 2.83L4 21.41c.39.39.9.59 1.41.59.51 0 1.02-.2 1.41-.59l7.78-7.78 2.81-2.81c.8-.78.8-2.07 0-2.86zM5.41 20L4 18.59l7.72-7.72 1.47 1.35L5.41 20z\"/>\n",
              "  </svg>\n",
              "      </button>\n",
              "      \n",
              "  <style>\n",
              "    .colab-df-container {\n",
              "      display:flex;\n",
              "      flex-wrap:wrap;\n",
              "      gap: 12px;\n",
              "    }\n",
              "\n",
              "    .colab-df-convert {\n",
              "      background-color: #E8F0FE;\n",
              "      border: none;\n",
              "      border-radius: 50%;\n",
              "      cursor: pointer;\n",
              "      display: none;\n",
              "      fill: #1967D2;\n",
              "      height: 32px;\n",
              "      padding: 0 0 0 0;\n",
              "      width: 32px;\n",
              "    }\n",
              "\n",
              "    .colab-df-convert:hover {\n",
              "      background-color: #E2EBFA;\n",
              "      box-shadow: 0px 1px 2px rgba(60, 64, 67, 0.3), 0px 1px 3px 1px rgba(60, 64, 67, 0.15);\n",
              "      fill: #174EA6;\n",
              "    }\n",
              "\n",
              "    [theme=dark] .colab-df-convert {\n",
              "      background-color: #3B4455;\n",
              "      fill: #D2E3FC;\n",
              "    }\n",
              "\n",
              "    [theme=dark] .colab-df-convert:hover {\n",
              "      background-color: #434B5C;\n",
              "      box-shadow: 0px 1px 3px 1px rgba(0, 0, 0, 0.15);\n",
              "      filter: drop-shadow(0px 1px 2px rgba(0, 0, 0, 0.3));\n",
              "      fill: #FFFFFF;\n",
              "    }\n",
              "  </style>\n",
              "\n",
              "      <script>\n",
              "        const buttonEl =\n",
              "          document.querySelector('#df-9320164e-1b56-4d70-a30a-a7d91acd611f button.colab-df-convert');\n",
              "        buttonEl.style.display =\n",
              "          google.colab.kernel.accessAllowed ? 'block' : 'none';\n",
              "\n",
              "        async function convertToInteractive(key) {\n",
              "          const element = document.querySelector('#df-9320164e-1b56-4d70-a30a-a7d91acd611f');\n",
              "          const dataTable =\n",
              "            await google.colab.kernel.invokeFunction('convertToInteractive',\n",
              "                                                     [key], {});\n",
              "          if (!dataTable) return;\n",
              "\n",
              "          const docLinkHtml = 'Like what you see? Visit the ' +\n",
              "            '<a target=\"_blank\" href=https://colab.research.google.com/notebooks/data_table.ipynb>data table notebook</a>'\n",
              "            + ' to learn more about interactive tables.';\n",
              "          element.innerHTML = '';\n",
              "          dataTable['output_type'] = 'display_data';\n",
              "          await google.colab.output.renderOutput(dataTable, element);\n",
              "          const docLink = document.createElement('div');\n",
              "          docLink.innerHTML = docLinkHtml;\n",
              "          element.appendChild(docLink);\n",
              "        }\n",
              "      </script>\n",
              "    </div>\n",
              "  </div>\n",
              "  "
            ]
          },
          "metadata": {},
          "execution_count": 2
        }
      ]
    },
    {
      "cell_type": "code",
      "source": [
        "#checking dataset info\n",
        "\n",
        "wine_df.info()"
      ],
      "metadata": {
        "colab": {
          "base_uri": "https://localhost:8080/"
        },
        "id": "mfm4AGELIbeX",
        "outputId": "ba60a5e4-33ee-45fa-9413-cf930029b0eb"
      },
      "execution_count": 3,
      "outputs": [
        {
          "output_type": "stream",
          "name": "stdout",
          "text": [
            "<class 'pandas.core.frame.DataFrame'>\n",
            "RangeIndex: 1143 entries, 0 to 1142\n",
            "Data columns (total 13 columns):\n",
            " #   Column                Non-Null Count  Dtype  \n",
            "---  ------                --------------  -----  \n",
            " 0   fixed acidity         1143 non-null   float64\n",
            " 1   volatile acidity      1143 non-null   float64\n",
            " 2   citric acid           1143 non-null   float64\n",
            " 3   residual sugar        1143 non-null   float64\n",
            " 4   chlorides             1143 non-null   float64\n",
            " 5   free sulfur dioxide   1143 non-null   float64\n",
            " 6   total sulfur dioxide  1143 non-null   float64\n",
            " 7   density               1143 non-null   float64\n",
            " 8   pH                    1143 non-null   float64\n",
            " 9   sulphates             1143 non-null   float64\n",
            " 10  alcohol               1143 non-null   float64\n",
            " 11  quality               1143 non-null   int64  \n",
            " 12  Id                    1143 non-null   int64  \n",
            "dtypes: float64(11), int64(2)\n",
            "memory usage: 116.2 KB\n"
          ]
        }
      ]
    },
    {
      "cell_type": "code",
      "source": [
        "#checking the shape of the dataset\n",
        "\n",
        "wine_df.shape"
      ],
      "metadata": {
        "colab": {
          "base_uri": "https://localhost:8080/"
        },
        "id": "Fs13fubSIbb6",
        "outputId": "999ed85a-3346-4e09-e3a7-a7d4ac07d5a2"
      },
      "execution_count": 4,
      "outputs": [
        {
          "output_type": "execute_result",
          "data": {
            "text/plain": [
              "(1143, 13)"
            ]
          },
          "metadata": {},
          "execution_count": 4
        }
      ]
    },
    {
      "cell_type": "markdown",
      "source": [
        "The dataset has 1143 rows and 13 columns"
      ],
      "metadata": {
        "id": "0DlNJEGqJ4Kr"
      }
    },
    {
      "cell_type": "code",
      "source": [
        "#checking the statistical summary of the dataset\n",
        "\n",
        "wine_df.describe()"
      ],
      "metadata": {
        "colab": {
          "base_uri": "https://localhost:8080/",
          "height": 362
        },
        "id": "GcMRkicUIbY8",
        "outputId": "0dec16cf-2ee2-4151-fadd-e2ec396d0046"
      },
      "execution_count": 5,
      "outputs": [
        {
          "output_type": "execute_result",
          "data": {
            "text/plain": [
              "       fixed acidity  volatile acidity  citric acid  residual sugar  \\\n",
              "count    1143.000000       1143.000000  1143.000000     1143.000000   \n",
              "mean        8.311111          0.531339     0.268364        2.532152   \n",
              "std         1.747595          0.179633     0.196686        1.355917   \n",
              "min         4.600000          0.120000     0.000000        0.900000   \n",
              "25%         7.100000          0.392500     0.090000        1.900000   \n",
              "50%         7.900000          0.520000     0.250000        2.200000   \n",
              "75%         9.100000          0.640000     0.420000        2.600000   \n",
              "max        15.900000          1.580000     1.000000       15.500000   \n",
              "\n",
              "         chlorides  free sulfur dioxide  total sulfur dioxide      density  \\\n",
              "count  1143.000000          1143.000000           1143.000000  1143.000000   \n",
              "mean      0.086933            15.615486             45.914698     0.996730   \n",
              "std       0.047267            10.250486             32.782130     0.001925   \n",
              "min       0.012000             1.000000              6.000000     0.990070   \n",
              "25%       0.070000             7.000000             21.000000     0.995570   \n",
              "50%       0.079000            13.000000             37.000000     0.996680   \n",
              "75%       0.090000            21.000000             61.000000     0.997845   \n",
              "max       0.611000            68.000000            289.000000     1.003690   \n",
              "\n",
              "                pH    sulphates      alcohol      quality           Id  \n",
              "count  1143.000000  1143.000000  1143.000000  1143.000000  1143.000000  \n",
              "mean      3.311015     0.657708    10.442111     5.657043   804.969379  \n",
              "std       0.156664     0.170399     1.082196     0.805824   463.997116  \n",
              "min       2.740000     0.330000     8.400000     3.000000     0.000000  \n",
              "25%       3.205000     0.550000     9.500000     5.000000   411.000000  \n",
              "50%       3.310000     0.620000    10.200000     6.000000   794.000000  \n",
              "75%       3.400000     0.730000    11.100000     6.000000  1209.500000  \n",
              "max       4.010000     2.000000    14.900000     8.000000  1597.000000  "
            ],
            "text/html": [
              "\n",
              "  <div id=\"df-23f0c9a8-a88c-4aa2-ae0f-787aa7d6fca7\">\n",
              "    <div class=\"colab-df-container\">\n",
              "      <div>\n",
              "<style scoped>\n",
              "    .dataframe tbody tr th:only-of-type {\n",
              "        vertical-align: middle;\n",
              "    }\n",
              "\n",
              "    .dataframe tbody tr th {\n",
              "        vertical-align: top;\n",
              "    }\n",
              "\n",
              "    .dataframe thead th {\n",
              "        text-align: right;\n",
              "    }\n",
              "</style>\n",
              "<table border=\"1\" class=\"dataframe\">\n",
              "  <thead>\n",
              "    <tr style=\"text-align: right;\">\n",
              "      <th></th>\n",
              "      <th>fixed acidity</th>\n",
              "      <th>volatile acidity</th>\n",
              "      <th>citric acid</th>\n",
              "      <th>residual sugar</th>\n",
              "      <th>chlorides</th>\n",
              "      <th>free sulfur dioxide</th>\n",
              "      <th>total sulfur dioxide</th>\n",
              "      <th>density</th>\n",
              "      <th>pH</th>\n",
              "      <th>sulphates</th>\n",
              "      <th>alcohol</th>\n",
              "      <th>quality</th>\n",
              "      <th>Id</th>\n",
              "    </tr>\n",
              "  </thead>\n",
              "  <tbody>\n",
              "    <tr>\n",
              "      <th>count</th>\n",
              "      <td>1143.000000</td>\n",
              "      <td>1143.000000</td>\n",
              "      <td>1143.000000</td>\n",
              "      <td>1143.000000</td>\n",
              "      <td>1143.000000</td>\n",
              "      <td>1143.000000</td>\n",
              "      <td>1143.000000</td>\n",
              "      <td>1143.000000</td>\n",
              "      <td>1143.000000</td>\n",
              "      <td>1143.000000</td>\n",
              "      <td>1143.000000</td>\n",
              "      <td>1143.000000</td>\n",
              "      <td>1143.000000</td>\n",
              "    </tr>\n",
              "    <tr>\n",
              "      <th>mean</th>\n",
              "      <td>8.311111</td>\n",
              "      <td>0.531339</td>\n",
              "      <td>0.268364</td>\n",
              "      <td>2.532152</td>\n",
              "      <td>0.086933</td>\n",
              "      <td>15.615486</td>\n",
              "      <td>45.914698</td>\n",
              "      <td>0.996730</td>\n",
              "      <td>3.311015</td>\n",
              "      <td>0.657708</td>\n",
              "      <td>10.442111</td>\n",
              "      <td>5.657043</td>\n",
              "      <td>804.969379</td>\n",
              "    </tr>\n",
              "    <tr>\n",
              "      <th>std</th>\n",
              "      <td>1.747595</td>\n",
              "      <td>0.179633</td>\n",
              "      <td>0.196686</td>\n",
              "      <td>1.355917</td>\n",
              "      <td>0.047267</td>\n",
              "      <td>10.250486</td>\n",
              "      <td>32.782130</td>\n",
              "      <td>0.001925</td>\n",
              "      <td>0.156664</td>\n",
              "      <td>0.170399</td>\n",
              "      <td>1.082196</td>\n",
              "      <td>0.805824</td>\n",
              "      <td>463.997116</td>\n",
              "    </tr>\n",
              "    <tr>\n",
              "      <th>min</th>\n",
              "      <td>4.600000</td>\n",
              "      <td>0.120000</td>\n",
              "      <td>0.000000</td>\n",
              "      <td>0.900000</td>\n",
              "      <td>0.012000</td>\n",
              "      <td>1.000000</td>\n",
              "      <td>6.000000</td>\n",
              "      <td>0.990070</td>\n",
              "      <td>2.740000</td>\n",
              "      <td>0.330000</td>\n",
              "      <td>8.400000</td>\n",
              "      <td>3.000000</td>\n",
              "      <td>0.000000</td>\n",
              "    </tr>\n",
              "    <tr>\n",
              "      <th>25%</th>\n",
              "      <td>7.100000</td>\n",
              "      <td>0.392500</td>\n",
              "      <td>0.090000</td>\n",
              "      <td>1.900000</td>\n",
              "      <td>0.070000</td>\n",
              "      <td>7.000000</td>\n",
              "      <td>21.000000</td>\n",
              "      <td>0.995570</td>\n",
              "      <td>3.205000</td>\n",
              "      <td>0.550000</td>\n",
              "      <td>9.500000</td>\n",
              "      <td>5.000000</td>\n",
              "      <td>411.000000</td>\n",
              "    </tr>\n",
              "    <tr>\n",
              "      <th>50%</th>\n",
              "      <td>7.900000</td>\n",
              "      <td>0.520000</td>\n",
              "      <td>0.250000</td>\n",
              "      <td>2.200000</td>\n",
              "      <td>0.079000</td>\n",
              "      <td>13.000000</td>\n",
              "      <td>37.000000</td>\n",
              "      <td>0.996680</td>\n",
              "      <td>3.310000</td>\n",
              "      <td>0.620000</td>\n",
              "      <td>10.200000</td>\n",
              "      <td>6.000000</td>\n",
              "      <td>794.000000</td>\n",
              "    </tr>\n",
              "    <tr>\n",
              "      <th>75%</th>\n",
              "      <td>9.100000</td>\n",
              "      <td>0.640000</td>\n",
              "      <td>0.420000</td>\n",
              "      <td>2.600000</td>\n",
              "      <td>0.090000</td>\n",
              "      <td>21.000000</td>\n",
              "      <td>61.000000</td>\n",
              "      <td>0.997845</td>\n",
              "      <td>3.400000</td>\n",
              "      <td>0.730000</td>\n",
              "      <td>11.100000</td>\n",
              "      <td>6.000000</td>\n",
              "      <td>1209.500000</td>\n",
              "    </tr>\n",
              "    <tr>\n",
              "      <th>max</th>\n",
              "      <td>15.900000</td>\n",
              "      <td>1.580000</td>\n",
              "      <td>1.000000</td>\n",
              "      <td>15.500000</td>\n",
              "      <td>0.611000</td>\n",
              "      <td>68.000000</td>\n",
              "      <td>289.000000</td>\n",
              "      <td>1.003690</td>\n",
              "      <td>4.010000</td>\n",
              "      <td>2.000000</td>\n",
              "      <td>14.900000</td>\n",
              "      <td>8.000000</td>\n",
              "      <td>1597.000000</td>\n",
              "    </tr>\n",
              "  </tbody>\n",
              "</table>\n",
              "</div>\n",
              "      <button class=\"colab-df-convert\" onclick=\"convertToInteractive('df-23f0c9a8-a88c-4aa2-ae0f-787aa7d6fca7')\"\n",
              "              title=\"Convert this dataframe to an interactive table.\"\n",
              "              style=\"display:none;\">\n",
              "        \n",
              "  <svg xmlns=\"http://www.w3.org/2000/svg\" height=\"24px\"viewBox=\"0 0 24 24\"\n",
              "       width=\"24px\">\n",
              "    <path d=\"M0 0h24v24H0V0z\" fill=\"none\"/>\n",
              "    <path d=\"M18.56 5.44l.94 2.06.94-2.06 2.06-.94-2.06-.94-.94-2.06-.94 2.06-2.06.94zm-11 1L8.5 8.5l.94-2.06 2.06-.94-2.06-.94L8.5 2.5l-.94 2.06-2.06.94zm10 10l.94 2.06.94-2.06 2.06-.94-2.06-.94-.94-2.06-.94 2.06-2.06.94z\"/><path d=\"M17.41 7.96l-1.37-1.37c-.4-.4-.92-.59-1.43-.59-.52 0-1.04.2-1.43.59L10.3 9.45l-7.72 7.72c-.78.78-.78 2.05 0 2.83L4 21.41c.39.39.9.59 1.41.59.51 0 1.02-.2 1.41-.59l7.78-7.78 2.81-2.81c.8-.78.8-2.07 0-2.86zM5.41 20L4 18.59l7.72-7.72 1.47 1.35L5.41 20z\"/>\n",
              "  </svg>\n",
              "      </button>\n",
              "      \n",
              "  <style>\n",
              "    .colab-df-container {\n",
              "      display:flex;\n",
              "      flex-wrap:wrap;\n",
              "      gap: 12px;\n",
              "    }\n",
              "\n",
              "    .colab-df-convert {\n",
              "      background-color: #E8F0FE;\n",
              "      border: none;\n",
              "      border-radius: 50%;\n",
              "      cursor: pointer;\n",
              "      display: none;\n",
              "      fill: #1967D2;\n",
              "      height: 32px;\n",
              "      padding: 0 0 0 0;\n",
              "      width: 32px;\n",
              "    }\n",
              "\n",
              "    .colab-df-convert:hover {\n",
              "      background-color: #E2EBFA;\n",
              "      box-shadow: 0px 1px 2px rgba(60, 64, 67, 0.3), 0px 1px 3px 1px rgba(60, 64, 67, 0.15);\n",
              "      fill: #174EA6;\n",
              "    }\n",
              "\n",
              "    [theme=dark] .colab-df-convert {\n",
              "      background-color: #3B4455;\n",
              "      fill: #D2E3FC;\n",
              "    }\n",
              "\n",
              "    [theme=dark] .colab-df-convert:hover {\n",
              "      background-color: #434B5C;\n",
              "      box-shadow: 0px 1px 3px 1px rgba(0, 0, 0, 0.15);\n",
              "      filter: drop-shadow(0px 1px 2px rgba(0, 0, 0, 0.3));\n",
              "      fill: #FFFFFF;\n",
              "    }\n",
              "  </style>\n",
              "\n",
              "      <script>\n",
              "        const buttonEl =\n",
              "          document.querySelector('#df-23f0c9a8-a88c-4aa2-ae0f-787aa7d6fca7 button.colab-df-convert');\n",
              "        buttonEl.style.display =\n",
              "          google.colab.kernel.accessAllowed ? 'block' : 'none';\n",
              "\n",
              "        async function convertToInteractive(key) {\n",
              "          const element = document.querySelector('#df-23f0c9a8-a88c-4aa2-ae0f-787aa7d6fca7');\n",
              "          const dataTable =\n",
              "            await google.colab.kernel.invokeFunction('convertToInteractive',\n",
              "                                                     [key], {});\n",
              "          if (!dataTable) return;\n",
              "\n",
              "          const docLinkHtml = 'Like what you see? Visit the ' +\n",
              "            '<a target=\"_blank\" href=https://colab.research.google.com/notebooks/data_table.ipynb>data table notebook</a>'\n",
              "            + ' to learn more about interactive tables.';\n",
              "          element.innerHTML = '';\n",
              "          dataTable['output_type'] = 'display_data';\n",
              "          await google.colab.output.renderOutput(dataTable, element);\n",
              "          const docLink = document.createElement('div');\n",
              "          docLink.innerHTML = docLinkHtml;\n",
              "          element.appendChild(docLink);\n",
              "        }\n",
              "      </script>\n",
              "    </div>\n",
              "  </div>\n",
              "  "
            ]
          },
          "metadata": {},
          "execution_count": 5
        }
      ]
    },
    {
      "cell_type": "markdown",
      "source": [
        "From the statistical summary we can observe\n",
        "*   Outliers in residual sugar, free sulfur dioxide & total sulfur dioxide columns.\n",
        "*   The standard deviations for these columns also shows that the data is widely spread when compared to the mean.\n"
      ],
      "metadata": {
        "id": "lp-iaSfSKFqA"
      }
    },
    {
      "cell_type": "code",
      "source": [
        "#checking for null values\n",
        "\n",
        "wine_df.isna().sum()"
      ],
      "metadata": {
        "colab": {
          "base_uri": "https://localhost:8080/"
        },
        "id": "78_XGvbxIbWm",
        "outputId": "2aa6c66c-2a36-4797-dfa6-3ef11481c7db"
      },
      "execution_count": 6,
      "outputs": [
        {
          "output_type": "execute_result",
          "data": {
            "text/plain": [
              "fixed acidity           0\n",
              "volatile acidity        0\n",
              "citric acid             0\n",
              "residual sugar          0\n",
              "chlorides               0\n",
              "free sulfur dioxide     0\n",
              "total sulfur dioxide    0\n",
              "density                 0\n",
              "pH                      0\n",
              "sulphates               0\n",
              "alcohol                 0\n",
              "quality                 0\n",
              "Id                      0\n",
              "dtype: int64"
            ]
          },
          "metadata": {},
          "execution_count": 6
        }
      ]
    },
    {
      "cell_type": "code",
      "source": [
        "#checking for duplicates\n",
        "\n",
        "wine_df.duplicated().sum()"
      ],
      "metadata": {
        "colab": {
          "base_uri": "https://localhost:8080/"
        },
        "id": "tVa-5dOdIbUB",
        "outputId": "aadc41f5-2819-40f9-dd6d-d0395e3de6f8"
      },
      "execution_count": 7,
      "outputs": [
        {
          "output_type": "execute_result",
          "data": {
            "text/plain": [
              "0"
            ]
          },
          "metadata": {},
          "execution_count": 7
        }
      ]
    },
    {
      "cell_type": "markdown",
      "source": [
        "There are no duplicates and no missing values in the dataset"
      ],
      "metadata": {
        "id": "e_PIRLoHKjUO"
      }
    },
    {
      "cell_type": "code",
      "source": [
        "#checking datatypes of columns in dataset\n",
        "\n",
        "wine_df.dtypes"
      ],
      "metadata": {
        "colab": {
          "base_uri": "https://localhost:8080/"
        },
        "id": "ojY9se-XIbQF",
        "outputId": "7731fc2f-4aa1-47e0-c3d4-ec66caf3bc28"
      },
      "execution_count": 8,
      "outputs": [
        {
          "output_type": "execute_result",
          "data": {
            "text/plain": [
              "fixed acidity           float64\n",
              "volatile acidity        float64\n",
              "citric acid             float64\n",
              "residual sugar          float64\n",
              "chlorides               float64\n",
              "free sulfur dioxide     float64\n",
              "total sulfur dioxide    float64\n",
              "density                 float64\n",
              "pH                      float64\n",
              "sulphates               float64\n",
              "alcohol                 float64\n",
              "quality                   int64\n",
              "Id                        int64\n",
              "dtype: object"
            ]
          },
          "metadata": {},
          "execution_count": 8
        }
      ]
    },
    {
      "cell_type": "code",
      "source": [
        "#dropping the id column as it is not needed and does not contribute to wine quality\n",
        "\n",
        "wine_df = wine_df.drop(columns='Id')"
      ],
      "metadata": {
        "id": "zXkQZGTPK9Gp"
      },
      "execution_count": 9,
      "outputs": []
    },
    {
      "cell_type": "code",
      "source": [
        "#Unique values for wine quality\n",
        "\n",
        "wine_df.quality.unique()  #checking to see the unique classes for wine quality"
      ],
      "metadata": {
        "colab": {
          "base_uri": "https://localhost:8080/"
        },
        "id": "79S2EyH8MOPo",
        "outputId": "0a2292d5-27c7-4dd3-f994-4ed8df2e3cbb"
      },
      "execution_count": 10,
      "outputs": [
        {
          "output_type": "execute_result",
          "data": {
            "text/plain": [
              "array([5, 6, 7, 4, 8, 3])"
            ]
          },
          "metadata": {},
          "execution_count": 10
        }
      ]
    },
    {
      "cell_type": "markdown",
      "source": [
        "There are six classes for wine rating\n",
        "\n",
        "5, 6, 7, 4, 8, 3"
      ],
      "metadata": {
        "id": "bsMwFtsAMcB5"
      }
    },
    {
      "cell_type": "code",
      "source": [
        "wine_df['quality'].value_counts(normalize = True).round(3)"
      ],
      "metadata": {
        "colab": {
          "base_uri": "https://localhost:8080/"
        },
        "id": "v7a05nN8MOMn",
        "outputId": "fca6fe12-6f23-4a4e-ca87-359a50cfca40"
      },
      "execution_count": 11,
      "outputs": [
        {
          "output_type": "execute_result",
          "data": {
            "text/plain": [
              "5    0.423\n",
              "6    0.404\n",
              "7    0.125\n",
              "4    0.029\n",
              "8    0.014\n",
              "3    0.005\n",
              "Name: quality, dtype: float64"
            ]
          },
          "metadata": {},
          "execution_count": 11
        }
      ]
    },
    {
      "cell_type": "code",
      "source": [
        "# visualize the target column - quality \n",
        "\n",
        "plt.figure(figsize = (15, 8))\n",
        "sns.countplot(wine_df['quality'])\n",
        "plt.xlabel('Wine quality')\n",
        "plt.ylabel('Count')\n",
        "plt.title('Distribution of Wine Quality')\n",
        "plt.show()"
      ],
      "metadata": {
        "colab": {
          "base_uri": "https://localhost:8080/",
          "height": 513
        },
        "id": "k21L8jQsMOJe",
        "outputId": "26603cb7-6b2c-4c60-eeab-2975624634f3"
      },
      "execution_count": 12,
      "outputs": [
        {
          "output_type": "display_data",
          "data": {
            "text/plain": [
              "<Figure size 1080x576 with 1 Axes>"
            ],
            "image/png": "[encoded data removed]"
          },
          "metadata": {
            "needs_background": "light"
          }
        }
      ]
    },
    {
      "cell_type": "markdown",
      "source": [
        "The classes of wines are not balanced as wines rated as 5 or 6 have more values than other classes of wine."
      ],
      "metadata": {
        "id": "LjkNNgouMpwy"
      }
    },
    {
      "cell_type": "code",
      "source": [
        "#checking for correlation\n",
        "\n",
        "C = wine_df.corr()"
      ],
      "metadata": {
        "id": "QwXnRLXIMOHZ"
      },
      "execution_count": 13,
      "outputs": []
    },
    {
      "cell_type": "code",
      "source": [
        "# correlation heatmap\n",
        "\n",
        "plt.figure(figsize = (15, 8))\n",
        "g = sns.heatmap(C, annot = True, cmap = 'Greens', linewidths = 0.1)\n",
        "plt.title('Correlation Heatmap', size = 15)\n",
        "plt.show()"
      ],
      "metadata": {
        "colab": {
          "base_uri": "https://localhost:8080/",
          "height": 585
        },
        "id": "f0zug1H1MOEh",
        "outputId": "b6088702-d768-47a3-cc17-33d515db31ed"
      },
      "execution_count": 14,
      "outputs": [
        {
          "output_type": "display_data",
          "data": {
            "text/plain": [
              "<Figure size 1080x576 with 2 Axes>"
            ],
            "image/png": "[encoded data removed]"
          },
          "metadata": {
            "needs_background": "light"
          }
        }
      ]
    },
    {
      "cell_type": "markdown",
      "source": [
        "From the correlation map above:\n",
        "\n",
        "The highest positive correlation of 0.68 can be observed between density and fixed acidity\n",
        "The lowest negative correlation of -0.69 can be observed between pH and fixed acidity"
      ],
      "metadata": {
        "id": "aGmjZZeVM8Ry"
      }
    },
    {
      "cell_type": "code",
      "source": [
        "# checking for outliers using boxplots\n",
        "fig, ax = plt.subplots(2, 2, figsize = (15, 10))\n",
        "sns.boxplot(x = 'fixed acidity', data=wine_df, ax = ax[0, 0])\n",
        "sns.boxplot(x = 'residual sugar', data=wine_df, ax = ax[0, 1])\n",
        "sns.boxplot(x = 'total sulfur dioxide', data=wine_df, ax = ax[1, 0])\n",
        "sns.boxplot(x = 'free sulfur dioxide', data=wine_df, ax = ax[1, 1])\n",
        "plt.show()"
      ],
      "metadata": {
        "colab": {
          "base_uri": "https://localhost:8080/",
          "height": 606
        },
        "id": "Ja-FVL8ZMOBp",
        "outputId": "5fca6590-beac-486e-bd4e-66ceabe28c86"
      },
      "execution_count": 15,
      "outputs": [
        {
          "output_type": "display_data",
          "data": {
            "text/plain": [
              "<Figure size 1080x720 with 4 Axes>"
            ],
            "image/png": "[encoded data removed]"
          },
          "metadata": {
            "needs_background": "light"
          }
        }
      ]
    },
    {
      "cell_type": "markdown",
      "source": [
        "# LOG NORMALIZATION"
      ],
      "metadata": {
        "id": "pM5FlPlMyhNZ"
      }
    },
    {
      "cell_type": "code",
      "source": [
        "wine_df.var().round(3)"
      ],
      "metadata": {
        "colab": {
          "base_uri": "https://localhost:8080/"
        },
        "id": "i-WPHaOJ4vyZ",
        "outputId": "130bab0e-7f37-4d35-db8e-c252c8b56082"
      },
      "execution_count": 16,
      "outputs": [
        {
          "output_type": "execute_result",
          "data": {
            "text/plain": [
              "fixed acidity              3.054\n",
              "volatile acidity           0.032\n",
              "citric acid                0.039\n",
              "residual sugar             1.839\n",
              "chlorides                  0.002\n",
              "free sulfur dioxide      105.072\n",
              "total sulfur dioxide    1074.668\n",
              "density                    0.000\n",
              "pH                         0.025\n",
              "sulphates                  0.029\n",
              "alcohol                    1.171\n",
              "quality                    0.649\n",
              "dtype: float64"
            ]
          },
          "metadata": {},
          "execution_count": 16
        }
      ]
    },
    {
      "cell_type": "markdown",
      "source": [
        "From the code cell above, the variance of columns free sulphur dioxide and total sulphur dioxide is relatively high. In the cell below, I use log normalization to reduce the variance."
      ],
      "metadata": {
        "id": "4FhqiX8aWfuZ"
      }
    },
    {
      "cell_type": "code",
      "source": [
        "# Replace the values with log-transformed values\n",
        "wine_df[['free sulfur dioxide']] = wine_df[['free sulfur dioxide']].apply(np.log)\n",
        "wine_df[['total sulfur dioxide']] = wine_df[['total sulfur dioxide']].apply(np.log)"
      ],
      "metadata": {
        "id": "ugV-4u2b43IS"
      },
      "execution_count": 17,
      "outputs": []
    },
    {
      "cell_type": "code",
      "source": [
        "wine_df.var().round(3)"
      ],
      "metadata": {
        "colab": {
          "base_uri": "https://localhost:8080/"
        },
        "id": "oFnPoE_Q5aVO",
        "outputId": "4dcb30eb-b41c-4453-fbd2-ecf699a0c0ca"
      },
      "execution_count": 18,
      "outputs": [
        {
          "output_type": "execute_result",
          "data": {
            "text/plain": [
              "fixed acidity           3.054\n",
              "volatile acidity        0.032\n",
              "citric acid             0.039\n",
              "residual sugar          1.839\n",
              "chlorides               0.002\n",
              "free sulfur dioxide     0.466\n",
              "total sulfur dioxide    0.490\n",
              "density                 0.000\n",
              "pH                      0.025\n",
              "sulphates               0.029\n",
              "alcohol                 1.171\n",
              "quality                 0.649\n",
              "dtype: float64"
            ]
          },
          "metadata": {},
          "execution_count": 18
        }
      ]
    },
    {
      "cell_type": "code",
      "source": [
        "# Import train_test_split method \n",
        "\n",
        "from sklearn.model_selection import train_test_split \n",
        "\n",
        "# Split transfusion DataFrame into \n",
        "# X_train, X_test, y_train and y_test datasets, \n",
        "# stratifying on the `target` column \n",
        "\n",
        "X_train, X_test, y_train, y_test = train_test_split( wine_df.drop(columns='quality'), wine_df.quality, test_size=0.25, random_state=42, stratify=wine_df.quality)"
      ],
      "metadata": {
        "id": "GBfYUsgXM6pa"
      },
      "execution_count": 19,
      "outputs": []
    },
    {
      "cell_type": "code",
      "source": [
        "print ('Training Set: %d rows\\nTest Set: %d rows' % (X_train.shape[0], X_test.shape[0]))"
      ],
      "metadata": {
        "id": "7vEs_MrmM6mr",
        "colab": {
          "base_uri": "https://localhost:8080/"
        },
        "outputId": "bbcc060a-5807-42c8-ae88-74274685653e"
      },
      "execution_count": 20,
      "outputs": [
        {
          "output_type": "stream",
          "name": "stdout",
          "text": [
            "Training Set: 857 rows\n",
            "Test Set: 286 rows\n"
          ]
        }
      ]
    },
    {
      "cell_type": "markdown",
      "source": [
        "# LOGISTIC REGRESSION MODEL"
      ],
      "metadata": {
        "id": "4dwpJt1w5DPJ"
      }
    },
    {
      "cell_type": "code",
      "source": [
        "#importing logistic regression model\n",
        "from sklearn.linear_model import LogisticRegression\n",
        "\n",
        "# Fitting the model on the training set\n",
        "Log_model = LogisticRegression().fit(X_train, y_train)\n",
        "print(Log_model)"
      ],
      "metadata": {
        "colab": {
          "base_uri": "https://localhost:8080/"
        },
        "id": "DvI7bAqEBg1J",
        "outputId": "2935cd1f-49b5-4a01-a377-97859a39ca61"
      },
      "execution_count": 21,
      "outputs": [
        {
          "output_type": "stream",
          "name": "stdout",
          "text": [
            "LogisticRegression()\n"
          ]
        }
      ]
    },
    {
      "cell_type": "code",
      "source": [
        "from sklearn.metrics import classification_report\n",
        "from sklearn.metrics import accuracy_score\n",
        "\n",
        "Log_y_pred = Log_model.predict(X_test)\n",
        "print(\"Overall Accuracy:\", accuracy_score(y_test, Log_y_pred))\n",
        "\n",
        "print(classification_report(y_test, Log_y_pred))"
      ],
      "metadata": {
        "colab": {
          "base_uri": "https://localhost:8080/"
        },
        "id": "qMXeZ7XmBtzX",
        "outputId": "b1cef67d-232f-4d10-fc67-6fb558401344"
      },
      "execution_count": 24,
      "outputs": [
        {
          "output_type": "stream",
          "name": "stdout",
          "text": [
            "Overall Accuracy: 0.6643356643356644\n",
            "              precision    recall  f1-score   support\n",
            "\n",
            "           3       0.00      0.00      0.00         1\n",
            "           4       0.00      0.00      0.00         8\n",
            "           5       0.71      0.80      0.75       121\n",
            "           6       0.62      0.69      0.66       116\n",
            "           7       0.62      0.36      0.46        36\n",
            "           8       0.00      0.00      0.00         4\n",
            "\n",
            "    accuracy                           0.66       286\n",
            "   macro avg       0.33      0.31      0.31       286\n",
            "weighted avg       0.63      0.66      0.64       286\n",
            "\n"
          ]
        }
      ]
    },
    {
      "cell_type": "markdown",
      "source": [
        "# KNN MODEL\n"
      ],
      "metadata": {
        "id": "LPpDK68x-xXU"
      }
    },
    {
      "cell_type": "code",
      "source": [
        "# Train the KNN model\n",
        "from sklearn.neighbors import KNeighborsClassifier\n",
        "\n",
        "# Fitting the model on the training set\n",
        "KNNmodel = KNeighborsClassifier().fit(X_train, y_train)\n",
        "print(KNNmodel)"
      ],
      "metadata": {
        "id": "C1Zju0V7M6jo",
        "colab": {
          "base_uri": "https://localhost:8080/"
        },
        "outputId": "07633878-c7c0-4db9-a900-6a375e2b9f98"
      },
      "execution_count": 25,
      "outputs": [
        {
          "output_type": "stream",
          "name": "stdout",
          "text": [
            "KNeighborsClassifier()\n"
          ]
        }
      ]
    },
    {
      "cell_type": "code",
      "source": [
        "#predicting the test results \n",
        "k_y_pred = KNNmodel.predict(X_test) \n",
        "k_y_pred[:10]\n"
      ],
      "metadata": {
        "id": "5RZV7j3yM6XW",
        "colab": {
          "base_uri": "https://localhost:8080/"
        },
        "outputId": "73867e9d-231c-4c93-9948-113a6122fa94"
      },
      "execution_count": 26,
      "outputs": [
        {
          "output_type": "execute_result",
          "data": {
            "text/plain": [
              "array([6, 6, 5, 5, 6, 6, 5, 5, 6, 6])"
            ]
          },
          "metadata": {},
          "execution_count": 26
        }
      ]
    },
    {
      "cell_type": "code",
      "source": [
        "\n",
        "print(\"Overall Accuracy:\", accuracy_score(y_test, k_y_pred))\n",
        "\n",
        "print(classification_report(y_test, k_y_pred))"
      ],
      "metadata": {
        "colab": {
          "base_uri": "https://localhost:8080/"
        },
        "id": "4Pnie5gs-3AK",
        "outputId": "b65b0435-40ea-4883-e163-eae1feffe0a1"
      },
      "execution_count": 27,
      "outputs": [
        {
          "output_type": "stream",
          "name": "stdout",
          "text": [
            "Overall Accuracy: 0.5769230769230769\n",
            "              precision    recall  f1-score   support\n",
            "\n",
            "           3       0.00      0.00      0.00         1\n",
            "           4       0.00      0.00      0.00         8\n",
            "           5       0.66      0.72      0.69       121\n",
            "           6       0.54      0.60      0.57       116\n",
            "           7       0.33      0.22      0.27        36\n",
            "           8       0.00      0.00      0.00         4\n",
            "\n",
            "    accuracy                           0.58       286\n",
            "   macro avg       0.26      0.26      0.25       286\n",
            "weighted avg       0.54      0.58      0.56       286\n",
            "\n"
          ]
        }
      ]
    },
    {
      "cell_type": "markdown",
      "source": [
        "# DECISION TREE CLASSIFIER\n"
      ],
      "metadata": {
        "id": "jHKDlBd-_cve"
      }
    },
    {
      "cell_type": "code",
      "source": [
        "from sklearn.tree import DecisionTreeClassifier\n",
        "\n",
        "# Train the model\n",
        "DTmodel = DecisionTreeClassifier(random_state=0).fit(X_train, y_train)\n",
        "\n",
        "DT_y_pred = DTmodel.predict(X_test) "
      ],
      "metadata": {
        "id": "G-Napvtr-284"
      },
      "execution_count": 28,
      "outputs": []
    },
    {
      "cell_type": "code",
      "source": [
        "#calculating accuracy score\n",
        "print(\"Overall Accuracy:\", accuracy_score(y_test, DT_y_pred))\n",
        "\n"
      ],
      "metadata": {
        "colab": {
          "base_uri": "https://localhost:8080/"
        },
        "id": "lPXvql2W-253",
        "outputId": "2369c032-d5df-456d-db1d-37a385f4b0ac"
      },
      "execution_count": 29,
      "outputs": [
        {
          "output_type": "stream",
          "name": "stdout",
          "text": [
            "Overall Accuracy: 0.6153846153846154\n"
          ]
        }
      ]
    },
    {
      "cell_type": "markdown",
      "source": [
        "# RANDOM FOREST CLASSIFIER"
      ],
      "metadata": {
        "id": "bN8HD4bv_0jf"
      }
    },
    {
      "cell_type": "code",
      "source": [
        "from sklearn.ensemble import RandomForestClassifier\n",
        "\n",
        "# Train the model\n",
        "RMmodel = RandomForestClassifier(random_state=0).fit(X_train, y_train)\n",
        "\n",
        "RF_y_pred = RMmodel.predict(X_test) \n",
        "\n",
        "#calculating accuracy score\n",
        "print(\"Overall Accuracy:\", accuracy_score(y_test, RF_y_pred))\n",
        "\n",
        "print(classification_report(y_test, RF_y_pred))"
      ],
      "metadata": {
        "colab": {
          "base_uri": "https://localhost:8080/"
        },
        "id": "7h3adBSl_0Od",
        "outputId": "63651402-4927-4dc4-f8b7-fa1dd87f6816"
      },
      "execution_count": 30,
      "outputs": [
        {
          "output_type": "stream",
          "name": "stdout",
          "text": [
            "Overall Accuracy: 0.7132867132867133\n",
            "              precision    recall  f1-score   support\n",
            "\n",
            "           3       0.00      0.00      0.00         1\n",
            "           4       0.00      0.00      0.00         8\n",
            "           5       0.72      0.84      0.78       121\n",
            "           6       0.71      0.70      0.70       116\n",
            "           7       0.67      0.56      0.61        36\n",
            "           8       1.00      0.25      0.40         4\n",
            "\n",
            "    accuracy                           0.71       286\n",
            "   macro avg       0.52      0.39      0.41       286\n",
            "weighted avg       0.69      0.71      0.70       286\n",
            "\n"
          ]
        }
      ]
    },
    {
      "cell_type": "markdown",
      "source": [
        "# LIGHT GRADIENT BOOSTING CLASSIFIER"
      ],
      "metadata": {
        "id": "GpurqiEK5P51"
      }
    },
    {
      "cell_type": "code",
      "source": [
        "# import linrary\n",
        "from lightgbm import LGBMClassifier\n",
        "\n",
        "LGBMmodel = LGBMClassifier(random_state=0).fit(X_train, y_train)\n",
        "\n",
        "# predict\n",
        "LGy_predict = LGBMmodel.predict(X_test)\n",
        "\n",
        "# accuracy score\n",
        "score = accuracy_score(y_test, LGy_predict)\n",
        "\n",
        "print('Accuracy score is:', score)\n",
        "\n",
        "print(classification_report(y_test, LGy_predict))"
      ],
      "metadata": {
        "colab": {
          "base_uri": "https://localhost:8080/"
        },
        "id": "CI-FQdaMAeJg",
        "outputId": "2aa3f7f6-4b1a-41e3-a9bf-413c0fd3763e"
      },
      "execution_count": 31,
      "outputs": [
        {
          "output_type": "stream",
          "name": "stdout",
          "text": [
            "Accuracy score is: 0.6853146853146853\n",
            "              precision    recall  f1-score   support\n",
            "\n",
            "           3       0.00      0.00      0.00         1\n",
            "           4       0.00      0.00      0.00         8\n",
            "           5       0.70      0.83      0.76       121\n",
            "           6       0.70      0.65      0.67       116\n",
            "           7       0.61      0.53      0.57        36\n",
            "           8       0.50      0.50      0.50         4\n",
            "\n",
            "    accuracy                           0.69       286\n",
            "   macro avg       0.42      0.42      0.42       286\n",
            "weighted avg       0.66      0.69      0.67       286\n",
            "\n"
          ]
        }
      ]
    },
    {
      "cell_type": "markdown",
      "source": [
        "# SUPPORT VECTOR MACHINE"
      ],
      "metadata": {
        "id": "RW7Lg7N6zHE6"
      }
    },
    {
      "cell_type": "code",
      "source": [
        "from sklearn.svm import SVC\n",
        "\n",
        "model_svc = SVC()\n",
        "\n",
        "model_svc.fit(X_train, y_train)\n",
        "# predicting \n",
        "y_pred_svc = model_svc.predict(X_test)\n",
        "\n",
        "# calculating the training and testing accuracies\n",
        "\n",
        "print(\"svm Testing accuracy :\", accuracy_score(y_test, y_pred_svc))\n",
        "\n",
        "print(classification_report(y_test, y_pred_svc))"
      ],
      "metadata": {
        "colab": {
          "base_uri": "https://localhost:8080/"
        },
        "id": "DA-wYxH2zFji",
        "outputId": "6bb53ab8-d481-4a64-b091-608d5e58a824"
      },
      "execution_count": 32,
      "outputs": [
        {
          "output_type": "stream",
          "name": "stdout",
          "text": [
            "svm Testing accuracy : 0.6153846153846154\n",
            "              precision    recall  f1-score   support\n",
            "\n",
            "           3       0.00      0.00      0.00         1\n",
            "           4       0.00      0.00      0.00         8\n",
            "           5       0.66      0.85      0.74       121\n",
            "           6       0.56      0.63      0.59       116\n",
            "           7       0.00      0.00      0.00        36\n",
            "           8       0.00      0.00      0.00         4\n",
            "\n",
            "    accuracy                           0.62       286\n",
            "   macro avg       0.20      0.25      0.22       286\n",
            "weighted avg       0.51      0.62      0.56       286\n",
            "\n"
          ]
        }
      ]
    },
    {
      "cell_type": "markdown",
      "source": [
        "# FINE TUNING RANDOM FOREST MODEL\n",
        "\n",
        "Random forest had the highest accuracy among all the models used. Therefore, to increase the accuracy of the model I will perform hyperparameters tuning."
      ],
      "metadata": {
        "id": "tA8dRCHTD2WB"
      }
    },
    {
      "cell_type": "code",
      "source": [
        "RMmodel\n",
        "parameters = {\"n_estimators\":[10, 20, 40, 100, 200], \"max_depth\":[None, 18, 40, 60, 100]}\n",
        "\n",
        "from sklearn.model_selection import GridSearchCV\n",
        "cv = GridSearchCV(RMmodel,parameters, cv=5)\n",
        "cv.fit(X_train, y_train)"
      ],
      "metadata": {
        "colab": {
          "base_uri": "https://localhost:8080/"
        },
        "id": "jHSWpEQ35kkq",
        "outputId": "f2d86574-3b5c-4dd7-e4e7-bf5adef149bc"
      },
      "execution_count": 33,
      "outputs": [
        {
          "output_type": "execute_result",
          "data": {
            "text/plain": [
              "GridSearchCV(cv=5, estimator=RandomForestClassifier(random_state=0),\n",
              "             param_grid={'max_depth': [None, 18, 40, 60, 100],\n",
              "                         'n_estimators': [10, 20, 40, 100, 200]})"
            ]
          },
          "metadata": {},
          "execution_count": 33
        }
      ]
    },
    {
      "cell_type": "code",
      "source": [
        "def display(results):\n",
        "    print(f'Best parameters are: {results.best_params_}')\n",
        "    print(\"\\n\")\n",
        "    mean_score = results.cv_results_['mean_test_score']\n",
        "    std_score = results.cv_results_['std_test_score']\n",
        "    params = results.cv_results_['params']\n",
        "    for mean,std,params in zip(mean_score,std_score,params):\n",
        "        print(f'{round(mean,3)} + or -{round(std,3)} for the {params}')\n",
        "\n",
        "display(cv)"
      ],
      "metadata": {
        "colab": {
          "base_uri": "https://localhost:8080/"
        },
        "id": "xTsef9fSC1J0",
        "outputId": "7430a6c6-688d-462e-9b92-44ce9a03cb2c"
      },
      "execution_count": 34,
      "outputs": [
        {
          "output_type": "stream",
          "name": "stdout",
          "text": [
            "Best parameters are: {'max_depth': 18, 'n_estimators': 200}\n",
            "\n",
            "\n",
            "0.59 + or -0.029 for the {'max_depth': None, 'n_estimators': 10}\n",
            "0.604 + or -0.02 for the {'max_depth': None, 'n_estimators': 20}\n",
            "0.627 + or -0.025 for the {'max_depth': None, 'n_estimators': 40}\n",
            "0.638 + or -0.018 for the {'max_depth': None, 'n_estimators': 100}\n",
            "0.644 + or -0.029 for the {'max_depth': None, 'n_estimators': 200}\n",
            "0.583 + or -0.03 for the {'max_depth': 18, 'n_estimators': 10}\n",
            "0.596 + or -0.023 for the {'max_depth': 18, 'n_estimators': 20}\n",
            "0.615 + or -0.028 for the {'max_depth': 18, 'n_estimators': 40}\n",
            "0.637 + or -0.018 for the {'max_depth': 18, 'n_estimators': 100}\n",
            "0.644 + or -0.025 for the {'max_depth': 18, 'n_estimators': 200}\n",
            "0.59 + or -0.029 for the {'max_depth': 40, 'n_estimators': 10}\n",
            "0.604 + or -0.02 for the {'max_depth': 40, 'n_estimators': 20}\n",
            "0.627 + or -0.025 for the {'max_depth': 40, 'n_estimators': 40}\n",
            "0.638 + or -0.018 for the {'max_depth': 40, 'n_estimators': 100}\n",
            "0.644 + or -0.029 for the {'max_depth': 40, 'n_estimators': 200}\n",
            "0.59 + or -0.029 for the {'max_depth': 60, 'n_estimators': 10}\n",
            "0.604 + or -0.02 for the {'max_depth': 60, 'n_estimators': 20}\n",
            "0.627 + or -0.025 for the {'max_depth': 60, 'n_estimators': 40}\n",
            "0.638 + or -0.018 for the {'max_depth': 60, 'n_estimators': 100}\n",
            "0.644 + or -0.029 for the {'max_depth': 60, 'n_estimators': 200}\n",
            "0.59 + or -0.029 for the {'max_depth': 100, 'n_estimators': 10}\n",
            "0.604 + or -0.02 for the {'max_depth': 100, 'n_estimators': 20}\n",
            "0.627 + or -0.025 for the {'max_depth': 100, 'n_estimators': 40}\n",
            "0.638 + or -0.018 for the {'max_depth': 100, 'n_estimators': 100}\n",
            "0.644 + or -0.029 for the {'max_depth': 100, 'n_estimators': 200}\n"
          ]
        }
      ]
    },
    {
      "cell_type": "code",
      "source": [
        "from sklearn.metrics import confusion_matrix\n",
        "CM = confusion_matrix(y_test, RF_y_pred)\n",
        "print(CM)\n",
        "print(classification_report(y_test, RF_y_pred))\n",
        "# Visualize it as a heatmap\n",
        "import seaborn\n",
        "seaborn.heatmap(CM)\n",
        "plt.show()"
      ],
      "metadata": {
        "id": "jZRyxHRbEybz",
        "colab": {
          "base_uri": "https://localhost:8080/",
          "height": 595
        },
        "outputId": "40b4fab8-dfee-4102-b850-8cbfe038f3b3"
      },
      "execution_count": 35,
      "outputs": [
        {
          "output_type": "stream",
          "name": "stdout",
          "text": [
            "[[  0   0   1   0   0   0]\n",
            " [  0   0   5   3   0   0]\n",
            " [  0   0 102  16   3   0]\n",
            " [  0   0  29  81   6   0]\n",
            " [  0   0   4  12  20   0]\n",
            " [  0   0   0   2   1   1]]\n",
            "              precision    recall  f1-score   support\n",
            "\n",
            "           3       0.00      0.00      0.00         1\n",
            "           4       0.00      0.00      0.00         8\n",
            "           5       0.72      0.84      0.78       121\n",
            "           6       0.71      0.70      0.70       116\n",
            "           7       0.67      0.56      0.61        36\n",
            "           8       1.00      0.25      0.40         4\n",
            "\n",
            "    accuracy                           0.71       286\n",
            "   macro avg       0.52      0.39      0.41       286\n",
            "weighted avg       0.69      0.71      0.70       286\n",
            "\n"
          ]
        },
        {
          "output_type": "display_data",
          "data": {
            "text/plain": [
              "<Figure size 432x288 with 2 Axes>"
            ],
            "image/png": "[encoded data removed]"
          },
          "metadata": {
            "needs_background": "light"
          }
        }
      ]
    },
    {
      "cell_type": "markdown",
      "source": [
        "# **CONCLUSION**\n",
        "The Random forest model had the highest accuracy score of 0.713. With Hyperparameter tuning the best values for parameters max_depth and n_estimators were 18 and 200 respectively. However, the accuracy score with these values was lower than the accuracy score using default values for random forest hyperparameters. It can also be observed that for quality class 3 & 4, precision and recall are 0.0, this can be attributed to the imbalance in the dataset. "
      ],
      "metadata": {
        "id": "6AfOnRn6YC9h"
      }
    }
  ]
}